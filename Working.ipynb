{
 "cells": [
  {
   "cell_type": "markdown",
   "metadata": {},
   "source": [
    "# Sperm Motility using sperm videos\n",
    "\n",
    "A sperm motility calculator assesses the percentage of actively moving sperm cells in a semen sample, a crucial factor in male fertility. By inputting various parameters like sperm count and motility rate, the tool estimates the overall sperm quality. This aids in diagnosing fertility issues and guiding treatment plans for couples seeking to conceive.\n",
    "\n",
    "### Importing the neccessary libraries"
   ]
  },
  {
   "cell_type": "code",
   "execution_count": null,
   "metadata": {},
   "outputs": [],
   "source": [
    "import os\n",
    "import cv2\n",
    "import numpy as np"
   ]
  },
  {
   "cell_type": "markdown",
   "metadata": {},
   "source": [
    "### Video Preprocessing"
   ]
  },
  {
   "cell_type": "code",
   "execution_count": 3,
   "metadata": {
    "metadata": {}
   },
   "outputs": [],
   "source": [
    "def convert_videos(input_folder, output_folder):\n",
    "    video_files = [f for f in os.listdir(input_folder) if f.endswith(('.mp4', '.avi', '.mkv'))]\n",
    "\n",
    "    for video_file in video_files:\n",
    "        input_path = os.path.join(input_folder, video_file)\n",
    "        output_path = os.path.join(output_folder, video_file)\n",
    "        cap = cv2.VideoCapture(input_path)\n",
    "        fourcc = cv2.VideoWriter_fourcc(*'XVID')\n",
    "        fps = cap.get(cv2.CAP_PROP_FPS)\n",
    "        frame_width = int(cap.get(cv2.CAP_PROP_FRAME_WIDTH))\n",
    "        frame_height = int(cap.get(cv2.CAP_PROP_FRAME_HEIGHT))\n",
    "        out = cv2.VideoWriter(output_path, fourcc, fps, (frame_width, frame_height))\n",
    "        while cap.isOpened():\n",
    "            ret, frame = cap.read()\n",
    "            if not ret:\n",
    "                break\n",
    "            out.write(frame)\n",
    "\n",
    "        cap.release()\n",
    "        out.release()\n",
    "    \n",
    "    cv2.destroyAllWindows()"
   ]
  },
  {
   "cell_type": "code",
   "execution_count": 4,
   "metadata": {
    "metadata": {}
   },
   "outputs": [],
   "source": [
    "def noise_reduction(input_image):\n",
    "    blurred_image = cv2.GaussianBlur(input_image, (5, 5), 0)\n",
    "    return blurred_image"
   ]
  },
  {
   "cell_type": "code",
   "execution_count": 5,
   "metadata": {
    "metadata": {}
   },
   "outputs": [],
   "source": [
    "def background_subtraction(input_image):\n",
    "    bg_subtractor = cv2.createBackgroundSubtractorMOG2()\n",
    "    fg_mask = bg_subtractor.apply(input_image)\n",
    "    return fg_mask"
   ]
  },
  {
   "cell_type": "code",
   "execution_count": 6,
   "metadata": {
    "metadata": {}
   },
   "outputs": [],
   "source": [
    "if __name__ == \"__main__\":\n",
    "    input_folder = \"/home/ntejha/Desktop/Projects/Sperm-Analysis/Videos\"\n",
    "    output_folder = \"/home/ntejha/Desktop/Projects/Sperm-Analysis/Pros_videos\"\n",
    "    convert_videos(input_folder, output_folder)"
   ]
  },
  {
   "cell_type": "markdown",
   "metadata": {},
   "source": [
    "### Annnotation of the dataset"
   ]
  },
  {
   "cell_type": "code",
   "execution_count": 4,
   "metadata": {
    "metadata": {}
   },
   "outputs": [],
   "source": [
    "def detect_sperm_heads(video_path, output_folder):\n",
    "    cap = cv2.VideoCapture(video_path)\n",
    "    frame_width = int(cap.get(cv2.CAP_PROP_FRAME_WIDTH))\n",
    "    frame_height = int(cap.get(cv2.CAP_PROP_FRAME_HEIGHT))\n",
    "    frame_count = int(cap.get(cv2.CAP_PROP_FRAME_COUNT))\n",
    "    fps = int(cap.get(cv2.CAP_PROP_FPS))\n",
    "    fourcc = cv2.VideoWriter_fourcc(*'XVID')\n",
    "    output_video_path = os.path.join(output_folder, os.path.basename(video_path))\n",
    "    out = cv2.VideoWriter(output_video_path, fourcc, fps, (frame_width, frame_height))\n",
    "\n",
    "    while cap.isOpened():\n",
    "        ret, frame = cap.read()\n",
    "        if not ret:\n",
    "            break\n",
    "\n",
    "        gray = cv2.cvtColor(frame, cv2.COLOR_BGR2GRAY)\n",
    "        _, thresh = cv2.threshold(gray, 200, 255, cv2.THRESH_BINARY)\n",
    "        contours, _ = cv2.findContours(thresh, cv2.RETR_EXTERNAL, cv2.CHAIN_APPROX_SIMPLE)\n",
    "        for contour in contours:\n",
    "            x, y, w, h = cv2.boundingRect(contour)\n",
    "            if w * h < 1000:\n",
    "                cv2.rectangle(frame, (x, y), (x + w, y + h), (0, 255, 0), 2)\n",
    "        out.write(frame)\n",
    "    cap.release()\n",
    "    out.release()\n",
    "\n",
    "def main():\n",
    "    input_folder = \"/home/ntejha/Desktop/Projects/Sperm-Analysis/Pros_videos\"\n",
    "    output_folder = \"/home/ntejha/Desktop/Projects/Sperm-Analysis/Annotated_videos\"\n",
    "\n",
    "    os.makedirs(output_folder, exist_ok=True)\n",
    "\n",
    "    # Iterate through each video in the input folder\n",
    "    for video_file in os.listdir(input_folder):\n",
    "        if video_file.endswith(('.mp4', '.avi', '.mov')):\n",
    "            video_path = os.path.join(input_folder, video_file)\n",
    "            # Detect sperm heads and create annotated video\n",
    "            detect_sperm_heads(video_path, output_folder)\n",
    "\n",
    "if __name__ == \"__main__\":\n",
    "    main()"
   ]
  },
  {
   "cell_type": "markdown",
   "metadata": {},
   "source": [
    "### Calculating motility"
   ]
  },
  {
   "cell_type": "code",
   "execution_count": 1,
   "metadata": {},
   "outputs": [
    {
     "name": "stdout",
     "output_type": "stream",
     "text": [
      "Average sperm motility for the video: 7.0710678118654755 pixels/frame\n"
     ]
    }
   ],
   "source": [
    "def calculate_distance(point1, point2):\n",
    "    return np.sqrt((point2[0] - point1[0])**2 + (point2[1] - point1[1])**2)\n",
    "\n",
    "video_path = \"/home/ntejha/Desktop/Projects/Sperm-Analysis/Annotated_videos/1.avi\"\n",
    "video_capture = cv2.VideoCapture(video_path)\n",
    "\n",
    "distances_covered = []\n",
    "\n",
    "fps = video_capture.get(cv2.CAP_PROP_FPS)\n",
    "\n",
    "while True:\n",
    "    ret, frame = video_capture.read()\n",
    "    if not ret:\n",
    "        break  \n",
    "    sperm_boxes = [(100, 100, 50, 50), (200, 200, 60, 60)] \n",
    "\n",
    "    for box in sperm_boxes:\n",
    "        x_prev, y_prev, w, h = box\n",
    "    \n",
    "        x_new, y_new = x_prev + 5, y_prev + 5\n",
    "        \n",
    "        distance_covered = calculate_distance((x_prev, y_prev), (x_new, y_new))\n",
    " \n",
    "        distances_covered.append(distance_covered)\n",
    "\n",
    "if distances_covered:\n",
    "    average_motility = np.mean(distances_covered)\n",
    "else:\n",
    "    average_motility = 0 \n",
    "\n",
    "print(f\"Average sperm motility for the video: {average_motility} pixels/frame\")\n",
    "\n",
    "video_capture.release()"
   ]
  }
 ],
 "metadata": {
  "kernelspec": {
   "display_name": "tf",
   "language": "python",
   "name": "python3"
  },
  "language_info": {
   "codemirror_mode": {
    "name": "ipython",
    "version": 3
   },
   "file_extension": ".py",
   "mimetype": "text/x-python",
   "name": "python",
   "nbconvert_exporter": "python",
   "pygments_lexer": "ipython3",
   "version": "3.11.8"
  }
 },
 "nbformat": 4,
 "nbformat_minor": 2
}
